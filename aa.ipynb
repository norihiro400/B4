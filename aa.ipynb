{
 "cells": [
  {
   "cell_type": "code",
   "execution_count": 9,
   "metadata": {},
   "outputs": [],
   "source": [
    "import pandas as pd\n",
    "import numpy\n",
    "from transformers import BertTokenizer\n",
    "from transformers import BertForSequenceClassification\n",
    "import torch\n",
    "from sklearn.metrics import classification_report"
   ]
  },
  {
   "cell_type": "code",
   "execution_count": 10,
   "metadata": {},
   "outputs": [],
   "source": [
    "# smishtankのデータで評価してみる\n",
    "df = pd.read_csv(\"data/smishtank.csv\",encoding_errors=\"ignore\")\n",
    "df[\"Labels\"] = 1\n",
    "df_text = df[\"MainText\"]\n",
    "df_labels = df[\"Labels\"]"
   ]
  },
  {
   "cell_type": "code",
   "execution_count": 11,
   "metadata": {},
   "outputs": [],
   "source": [
    "tokenizer = BertTokenizer.from_pretrained(\"bert-base-uncased\")\n",
    "\n",
    "def tokenize_text(texts):\n",
    "    return tokenizer(list(texts),padding=True,truncation=True,max_length=128,return_tensors=\"pt\")\n",
    "\n",
    "encording = tokenize_text(df_text)"
   ]
  },
  {
   "cell_type": "code",
   "execution_count": 12,
   "metadata": {},
   "outputs": [
    {
     "name": "stderr",
     "output_type": "stream",
     "text": [
      "Some weights of BertForSequenceClassification were not initialized from the model checkpoint at bert-base-uncased and are newly initialized: ['classifier.bias', 'classifier.weight']\n",
      "You should probably TRAIN this model on a down-stream task to be able to use it for predictions and inference.\n",
      "/tmp/ipykernel_841/2860955440.py:3: FutureWarning: You are using `torch.load` with `weights_only=False` (the current default value), which uses the default pickle module implicitly. It is possible to construct malicious pickle data which will execute arbitrary code during unpickling (See https://github.com/pytorch/pytorch/blob/main/SECURITY.md#untrusted-models for more details). In a future release, the default value for `weights_only` will be flipped to `True`. This limits the functions that could be executed during unpickling. Arbitrary objects will no longer be allowed to be loaded via this mode unless they are explicitly allowlisted by the user via `torch.serialization.add_safe_globals`. We recommend you start setting `weights_only=True` for any use case where you don't have full control of the loaded file. Please open an issue on GitHub for any issues related to this experimental feature.\n",
      "  model.load_state_dict(torch.load(\"model/bert_detection_model_epoch10.pth\"))\n"
     ]
    },
    {
     "name": "stdout",
     "output_type": "stream",
     "text": [
      "Parameter containing:\n",
      "tensor([[-0.0102, -0.0615, -0.0265,  ..., -0.0199, -0.0372, -0.0098],\n",
      "        [-0.0117, -0.0600, -0.0323,  ..., -0.0168, -0.0401, -0.0107],\n",
      "        [-0.0198, -0.0627, -0.0326,  ..., -0.0165, -0.0420, -0.0032],\n",
      "        ...,\n",
      "        [-0.0218, -0.0556, -0.0135,  ..., -0.0043, -0.0151, -0.0249],\n",
      "        [-0.0462, -0.0565, -0.0019,  ...,  0.0157, -0.0139, -0.0095],\n",
      "        [ 0.0015, -0.0821, -0.0160,  ..., -0.0081, -0.0475,  0.0753]],\n",
      "       device='cuda:0', requires_grad=True)\n"
     ]
    }
   ],
   "source": [
    "# 学習済みモデルをロード\n",
    "model = BertForSequenceClassification.from_pretrained(\"bert-base-uncased\",num_labels=2)\n",
    "model.load_state_dict(torch.load(\"model/bert_detection_model_epoch10.pth\"))\n",
    "\n",
    "device = torch.device(\"cuda\") if torch.cuda.is_available() else torch.device(\"cpu\")\n",
    "model.to(device)\n",
    "print(next(model.parameters()))"
   ]
  },
  {
   "cell_type": "code",
   "execution_count": 13,
   "metadata": {},
   "outputs": [],
   "source": [
    "# データ準備\n",
    "# ラベルをテンソルに変換\n",
    "labels = torch.tensor(df_labels.values)\n",
    "# データローダー\n",
    "dataset = torch.utils.data.TensorDataset(encording['input_ids'],encording['attention_mask'],labels)\n",
    "\n",
    "loader = torch.utils.data.DataLoader(dataset,batch_size=16)\n"
   ]
  },
  {
   "cell_type": "code",
   "execution_count": 23,
   "metadata": {},
   "outputs": [
    {
     "name": "stdout",
     "output_type": "stream",
     "text": [
      "              precision    recall  f1-score   support\n",
      "\n",
      "         ham       0.00      0.00      0.00         0\n",
      "        spam       1.00      0.95      0.98      1062\n",
      "\n",
      "    accuracy                           0.95      1062\n",
      "   macro avg       0.50      0.48      0.49      1062\n",
      "weighted avg       1.00      0.95      0.98      1062\n",
      "\n"
     ]
    },
    {
     "name": "stderr",
     "output_type": "stream",
     "text": [
      "/home/ubuntu/miniconda3/envs/bert/lib/python3.10/site-packages/sklearn/metrics/_classification.py:1531: UndefinedMetricWarning: Recall is ill-defined and being set to 0.0 in labels with no true samples. Use `zero_division` parameter to control this behavior.\n",
      "  _warn_prf(average, modifier, f\"{metric.capitalize()} is\", len(result))\n",
      "/home/ubuntu/miniconda3/envs/bert/lib/python3.10/site-packages/sklearn/metrics/_classification.py:1531: UndefinedMetricWarning: Recall is ill-defined and being set to 0.0 in labels with no true samples. Use `zero_division` parameter to control this behavior.\n",
      "  _warn_prf(average, modifier, f\"{metric.capitalize()} is\", len(result))\n",
      "/home/ubuntu/miniconda3/envs/bert/lib/python3.10/site-packages/sklearn/metrics/_classification.py:1531: UndefinedMetricWarning: Recall is ill-defined and being set to 0.0 in labels with no true samples. Use `zero_division` parameter to control this behavior.\n",
      "  _warn_prf(average, modifier, f\"{metric.capitalize()} is\", len(result))\n"
     ]
    }
   ],
   "source": [
    "device = torch.device(\"cuda\") if torch.cuda.is_available() else torch.device(\"cpu\")\n",
    "model.to(device)\n",
    "\n",
    "model.eval()\n",
    "all_preds,all_labels = [],[]\n",
    "\n",
    "with torch.no_grad():\n",
    "    for batch in loader:\n",
    "        input_ids,attention_mask,labels = [b.to(device) for b in batch]\n",
    "        outputs = model(input_ids,attention_mask = attention_mask)\n",
    "        preds = torch.argmax(outputs.logits,dim=1)\n",
    "        all_preds.extend(preds.cpu().numpy())\n",
    "        all_labels.extend(labels.cpu().numpy())\n",
    "\n",
    "print(classification_report(all_labels,all_preds,target_names = [\"ham\",\"spam\"]))\n"
   ]
  },
  {
   "cell_type": "code",
   "execution_count": 15,
   "metadata": {},
   "outputs": [
    {
     "name": "stdout",
     "output_type": "stream",
     "text": [
      "[1 1 1 ... 1 1 1]\n",
      "[1 1 1 ... 1 1 1]\n"
     ]
    }
   ],
   "source": [
    "# 詳細\n",
    "print(numpy.array(all_preds))\n",
    "print(numpy.array(all_labels))\n",
    "falied_index_list = []\n",
    "for i in range(len(all_labels)):\n",
    "    if all_preds[i] != all_labels[i]:\n",
    "        falied_index_list.append(i)\n",
    "\n"
   ]
  },
  {
   "cell_type": "code",
   "execution_count": 24,
   "metadata": {},
   "outputs": [
    {
     "name": "stderr",
     "output_type": "stream",
     "text": [
      "[nltk_data] Downloading package wordnet to /home/ubuntu/nltk_data...\n",
      "[nltk_data]   Package wordnet is already up-to-date!\n",
      "[nltk_data] Downloading package omw-1.4 to /home/ubuntu/nltk_data...\n",
      "[nltk_data]   Package omw-1.4 is already up-to-date!\n"
     ]
    }
   ],
   "source": [
    "#敵対的攻撃\n",
    "import nltk\n",
    "from nltk.corpus import wordnet as wn\n",
    "\n",
    "nltk.download('wordnet')\n",
    "nltk.download('omw-1.4')\n",
    "\n",
    "model.eval()\n",
    "\n",
    "# 同義語を取得する関数\n",
    "def get_synonyms(word):\n",
    "    synonyms = set()\n",
    "    for syn in wn.synsets(word):\n",
    "        for lemma in syn.lemmas():\n",
    "            synonyms.add(lemma.name().replace('_',' '))\n",
    "    return list(synonyms)\n",
    "\n",
    "# 単語置き換えによる敵対的攻撃\n",
    "def adversarial_attack(text, model, tokenizer, device=device):\n",
    "    words = text.split()  # 文を単語に分割\n",
    "    original_inputs = tokenizer(text, return_tensors=\"pt\", padding=True, truncation=True).to(device)\n",
    "    original_pred = model(**original_inputs).logits.argmax().item()\n",
    "\n",
    "    for i, word in enumerate(words):\n",
    "        synonyms = get_synonyms(word)\n",
    "        for synonym in synonyms:\n",
    "            # 単語を置き換えた新しい文を生成\n",
    "            new_words = words[:i] + [synonym] + words[i+1:]\n",
    "            new_text = \" \".join(new_words)\n",
    "\n",
    "            # モデルで予測\n",
    "            inputs = tokenizer(new_text, return_tensors=\"pt\", padding=True, truncation=True).to(device)\n",
    "            pred = model(**inputs).logits.argmax().item()\n",
    "\n",
    "            # 予測が変わったら成功\n",
    "            if pred != original_pred:\n",
    "                return new_text, original_pred, pred\n",
    "\n",
    "    # 置き換えが成功しなかった場合\n",
    "    return text, original_pred, original_pred\n"
   ]
  },
  {
   "cell_type": "code",
   "execution_count": null,
   "metadata": {},
   "outputs": [],
   "source": [
    "device = torch.device(\"cuda\" if torch.cuda.is_available() else \"cpu\")\n",
    "model.to(device)\n",
    "df_result_semantic = pd.DataFrame(columns=[\"original\",\"adversarial\",\"original_label\",\"adversarial_label\"])\n",
    "\n",
    "for i in range(len(df_text)):\n",
    "    text = df_text.iloc[i]\n",
    "    original_text,adv_text, new_label, original_label = adversarial_attack_multi(text, model, tokenizer, device,similarity_threshold=0.6)\n",
    "# DataFrameに行を追加するにはpd.concatを使用\n",
    "    new_row = pd.DataFrame([{\n",
    "        \"original\": original_text,\n",
    "        \"adversarial\": adv_text,\n",
    "        \"original_label\": original_label,\n",
    "        \"adversarial_label\": new_label\n",
    "    }])\n",
    "    df_result_semantic = pd.concat([df_result_semantic, new_row], ignore_index=True)\n"
   ]
  },
  {
   "cell_type": "code",
   "execution_count": null,
   "metadata": {},
   "outputs": [
    {
     "name": "stdout",
     "output_type": "stream",
     "text": [
      "Original Text: dear dhaval  click httpgoiminimapp and download indiamart app for free to stay updated about enquiries  buy leads anytime  anywhere\n",
      "Adversarial Text: dear dhaval  click httpgoiminimapp and download indiamart app for free to stay updated about enquiries  buy leads anytime  anywhere\n",
      "Original Label: 1, New Label: 1\n"
     ]
    }
   ],
   "source": [
    "sample_text = \"please click this link\"\n",
    "device = torch.device(\"cuda\" if torch.cuda.is_available() else \"cpu\")\n",
    "model.to(device)\n",
    "\n",
    "adv_text, original_label, new_label = adversarial_attack(sample_text, model, tokenizer, device)\n",
    "\n",
    "print(f\"Original Text: {sample_text}\")\n",
    "print(f\"Adversarial Text: {adv_text}\")\n",
    "print(f\"Original Label: {original_label}, New Label: {new_label}\")"
   ]
  }
 ],
 "metadata": {
  "kernelspec": {
   "display_name": "bert",
   "language": "python",
   "name": "python3"
  },
  "language_info": {
   "codemirror_mode": {
    "name": "ipython",
    "version": 3
   },
   "file_extension": ".py",
   "mimetype": "text/x-python",
   "name": "python",
   "nbconvert_exporter": "python",
   "pygments_lexer": "ipython3",
   "version": "3.10.15"
  }
 },
 "nbformat": 4,
 "nbformat_minor": 2
}
